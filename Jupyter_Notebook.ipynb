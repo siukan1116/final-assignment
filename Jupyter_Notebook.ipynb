{
  "metadata": {
    "kernelspec": {
      "name": "python",
      "display_name": "Pyolite",
      "language": "python"
    },
    "language_info": {
      "codemirror_mode": {
        "name": "python",
        "version": 3
      },
      "file_extension": ".py",
      "mimetype": "text/x-python",
      "name": "python",
      "nbconvert_exporter": "python",
      "pygments_lexer": "ipython3",
      "version": "3.8"
    }
  },
  "nbformat_minor": 4,
  "nbformat": 4,
  "cells": [
    {
      "cell_type": "markdown",
      "source": "<h1>My Jupyter Notebook on IBM Watson Studio</h1>",
      "metadata": {}
    },
    {
      "cell_type": "markdown",
      "source": "<b>Kwok Siu Kan</b> I am a research assistant right now, and I want to become a data scientist or data analyst in the future.",
      "metadata": {}
    },
    {
      "cell_type": "markdown",
      "source": "<i>I am interested in data science because data won't lie. If we get enough data we can discover the answer of any questions.</i>",
      "metadata": {}
    },
    {
      "cell_type": "markdown",
      "source": "<h3>The next cell will print a simple sentence.</h3>",
      "metadata": {}
    },
    {
      "cell_type": "code",
      "source": "print('Hello, nice to meet you. Have fun in the field of data science.')",
      "metadata": {
        "trusted": true
      },
      "execution_count": 1,
      "outputs": [
        {
          "name": "stdout",
          "text": "Hello, nice to meet you. Have fun in the field of data science.\n",
          "output_type": "stream"
        }
      ]
    },
    {
      "cell_type": "markdown",
      "source": "<ul>\n<li>1\n<li>2\n<li>3\n</ul>\n\n<ol>\n<li>a\n<li>b\n<li>c\n</ol>\n\n<a>https://www.google.com</a>",
      "metadata": {}
    }
  ]
}